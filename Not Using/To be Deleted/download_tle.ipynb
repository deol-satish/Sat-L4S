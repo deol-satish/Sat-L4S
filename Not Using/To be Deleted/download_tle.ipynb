{
 "cells": [
  {
   "cell_type": "code",
   "execution_count": 2,
   "id": "40b9362e",
   "metadata": {},
   "outputs": [
    {
     "name": "stdout",
     "output_type": "stream",
     "text": [
      "Saved 7337 STARLINK satellites to starlink_only.tle\n"
     ]
    }
   ],
   "source": [
    "import requests\n",
    "\n",
    "# Download the ACTIVE satellite TLEs from Celestrak\n",
    "url = \"https://celestrak.org/NORAD/elements/gp.php?GROUP=ACTIVE&FORMAT=tle\"\n",
    "response = requests.get(url)\n",
    "data = response.text.splitlines()\n",
    "\n",
    "# Filter only STARLINK satellites (case-insensitive)\n",
    "starlink_tles = []\n",
    "i = 0\n",
    "while i < len(data):\n",
    "    name_line = data[i].strip()\n",
    "    if i + 2 < len(data):\n",
    "        line1 = data[i+1].strip()\n",
    "        line2 = data[i+2].strip()\n",
    "        # Check if name starts with \"STARLINK\" (case-insensitive)\n",
    "        if name_line.upper().startswith(\"STARLINK\"):\n",
    "            starlink_tles.append(name_line)\n",
    "            starlink_tles.append(line1)\n",
    "            starlink_tles.append(line2)\n",
    "        i += 3  # Move to next satellite (TLEs are in groups of 3 lines)\n",
    "    else:\n",
    "        break\n",
    "\n",
    "# Save filtered STARLINK TLEs to a file\n",
    "output_file = \"starlink_only.tle\"\n",
    "with open(output_file, \"w\") as f:\n",
    "    f.write(\"\\n\".join(starlink_tles))\n",
    "\n",
    "print(f\"Saved {len(starlink_tles)//3} STARLINK satellites to {output_file}\")"
   ]
  },
  {
   "cell_type": "code",
   "execution_count": null,
   "id": "e0f6a04e",
   "metadata": {},
   "outputs": [],
   "source": [
    "# import requests\n",
    "\n",
    "# url = \"https://celestrak.org/NORAD/elements/gp.php?GROUP=STARLINK&FORMAT=tle\"\n",
    "# # url = \"https://celestrak.org/NORAD/elements/gp.php?GROUP=ACTIVE&FORMAT=tle\"\n",
    "# response = requests.get(url)\n",
    "\n",
    "# if response.status_code == 200:\n",
    "#     with open(\"starlink.tle\", \"w\") as file:\n",
    "#         file.write(response.text)\n",
    "#     print(\"TLE data saved to starlink_tle.txt\")\n",
    "# else:\n",
    "#     print(f\"Failed to retrieve data. Status code: {response.status_code}\")\n",
    "# # This script downloads the latest TLE data for Starlink satellites from CelesTrak and saves it to a file."
   ]
  }
 ],
 "metadata": {
  "kernelspec": {
   "display_name": "base",
   "language": "python",
   "name": "python3"
  },
  "language_info": {
   "codemirror_mode": {
    "name": "ipython",
    "version": 3
   },
   "file_extension": ".py",
   "mimetype": "text/x-python",
   "name": "python",
   "nbconvert_exporter": "python",
   "pygments_lexer": "ipython3",
   "version": "3.12.7"
  }
 },
 "nbformat": 4,
 "nbformat_minor": 5
}
