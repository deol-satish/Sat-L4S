{
 "cells": [
  {
   "cell_type": "code",
   "execution_count": 1,
   "id": "2f625a6f",
   "metadata": {},
   "outputs": [
    {
     "name": "stdout",
     "output_type": "stream",
     "text": [
      "Max satellite ID found: 144\n",
      "Satellites with possible connection: ['LEO20', 'LEO21', 'LEO22', 'LEO23', 'LEO24', 'LEO31', 'LEO32', 'LEO33', 'LEO34', 'LEO35', 'LEO43', 'LEO44', 'LEO45', 'LEO46', 'LEO54', 'LEO55', 'LEO56', 'LEO57', 'LEO65', 'LEO66', 'LEO67', 'LEO68', 'LEO69', 'LEO76', 'LEO77', 'LEO78', 'LEO79', 'LEO80']\n",
      "length(Satellites with possible connection): 28\n",
      "Remaining columns after cleanup: ['Time', 'LEO20_Name', 'LEO20_Lat', 'LEO20_Lon', 'LEO20_Freq_Hz', 'LEO20_Sydney_Access', 'LEO20_Sydney_SNR_dB', 'LEO20_Sydney_RSSI_dBm', 'LEO20_Sydney_Throughput', 'LEO20_Sydney_BER_QPSK', 'LEO20_Sydney_BER_MQAM', 'LEO20_Sydney_Latency', 'LEO20_Sydney_TimeOut', 'LEO20_Melbourne_Access', 'LEO20_Melbourne_SNR_dB', 'LEO20_Melbourne_RSSI_dBm', 'LEO20_Melbourne_Throughput', 'LEO20_Melbourne_BER_QPSK', 'LEO20_Melbourne_BER_MQAM', 'LEO20_Melbourne_Latency', 'LEO20_Melbourne_TimeOut', 'LEO21_Name', 'LEO21_Lat', 'LEO21_Lon', 'LEO21_Freq_Hz', 'LEO21_Sydney_Access', 'LEO21_Sydney_SNR_dB', 'LEO21_Sydney_RSSI_dBm', 'LEO21_Sydney_Throughput', 'LEO21_Sydney_BER_QPSK', 'LEO21_Sydney_BER_MQAM', 'LEO21_Sydney_Latency', 'LEO21_Sydney_TimeOut', 'LEO21_Melbourne_Access', 'LEO21_Melbourne_SNR_dB', 'LEO21_Melbourne_RSSI_dBm', 'LEO21_Melbourne_Throughput', 'LEO21_Melbourne_BER_QPSK', 'LEO21_Melbourne_BER_MQAM', 'LEO21_Melbourne_Latency', 'LEO21_Melbourne_TimeOut', 'LEO22_Name', 'LEO22_Lat', 'LEO22_Lon', 'LEO22_Freq_Hz', 'LEO22_Sydney_Access', 'LEO22_Sydney_SNR_dB', 'LEO22_Sydney_RSSI_dBm', 'LEO22_Sydney_Throughput', 'LEO22_Sydney_BER_QPSK', 'LEO22_Sydney_BER_MQAM', 'LEO22_Sydney_Latency', 'LEO22_Sydney_TimeOut', 'LEO22_Melbourne_Access', 'LEO22_Melbourne_SNR_dB', 'LEO22_Melbourne_RSSI_dBm', 'LEO22_Melbourne_Throughput', 'LEO22_Melbourne_BER_QPSK', 'LEO22_Melbourne_BER_MQAM', 'LEO22_Melbourne_Latency', 'LEO22_Melbourne_TimeOut', 'LEO23_Name', 'LEO23_Lat', 'LEO23_Lon', 'LEO23_Freq_Hz', 'LEO23_Sydney_Access', 'LEO23_Sydney_SNR_dB', 'LEO23_Sydney_RSSI_dBm', 'LEO23_Sydney_Throughput', 'LEO23_Sydney_BER_QPSK', 'LEO23_Sydney_BER_MQAM', 'LEO23_Sydney_Latency', 'LEO23_Sydney_TimeOut', 'LEO23_Melbourne_Access', 'LEO23_Melbourne_SNR_dB', 'LEO23_Melbourne_RSSI_dBm', 'LEO23_Melbourne_Throughput', 'LEO23_Melbourne_BER_QPSK', 'LEO23_Melbourne_BER_MQAM', 'LEO23_Melbourne_Latency', 'LEO23_Melbourne_TimeOut', 'LEO24_Name', 'LEO24_Lat', 'LEO24_Lon', 'LEO24_Freq_Hz', 'LEO24_Sydney_Access', 'LEO24_Sydney_SNR_dB', 'LEO24_Sydney_RSSI_dBm', 'LEO24_Sydney_Throughput', 'LEO24_Sydney_BER_QPSK', 'LEO24_Sydney_BER_MQAM', 'LEO24_Sydney_Latency', 'LEO24_Sydney_TimeOut', 'LEO24_Melbourne_Access', 'LEO24_Melbourne_SNR_dB', 'LEO24_Melbourne_RSSI_dBm', 'LEO24_Melbourne_Throughput', 'LEO24_Melbourne_BER_QPSK', 'LEO24_Melbourne_BER_MQAM', 'LEO24_Melbourne_Latency', 'LEO24_Melbourne_TimeOut', 'LEO31_Name', 'LEO31_Lat', 'LEO31_Lon', 'LEO31_Freq_Hz', 'LEO31_Sydney_Access', 'LEO31_Sydney_SNR_dB', 'LEO31_Sydney_RSSI_dBm', 'LEO31_Sydney_Throughput', 'LEO31_Sydney_BER_QPSK', 'LEO31_Sydney_BER_MQAM', 'LEO31_Sydney_Latency', 'LEO31_Sydney_TimeOut', 'LEO31_Melbourne_Access', 'LEO31_Melbourne_SNR_dB', 'LEO31_Melbourne_RSSI_dBm', 'LEO31_Melbourne_Throughput', 'LEO31_Melbourne_BER_QPSK', 'LEO31_Melbourne_BER_MQAM', 'LEO31_Melbourne_Latency', 'LEO31_Melbourne_TimeOut', 'LEO32_Name', 'LEO32_Lat', 'LEO32_Lon', 'LEO32_Freq_Hz', 'LEO32_Sydney_Access', 'LEO32_Sydney_SNR_dB', 'LEO32_Sydney_RSSI_dBm', 'LEO32_Sydney_Throughput', 'LEO32_Sydney_BER_QPSK', 'LEO32_Sydney_BER_MQAM', 'LEO32_Sydney_Latency', 'LEO32_Sydney_TimeOut', 'LEO32_Melbourne_Access', 'LEO32_Melbourne_SNR_dB', 'LEO32_Melbourne_RSSI_dBm', 'LEO32_Melbourne_Throughput', 'LEO32_Melbourne_BER_QPSK', 'LEO32_Melbourne_BER_MQAM', 'LEO32_Melbourne_Latency', 'LEO32_Melbourne_TimeOut', 'LEO33_Name', 'LEO33_Lat', 'LEO33_Lon', 'LEO33_Freq_Hz', 'LEO33_Sydney_Access', 'LEO33_Sydney_SNR_dB', 'LEO33_Sydney_RSSI_dBm', 'LEO33_Sydney_Throughput', 'LEO33_Sydney_BER_QPSK', 'LEO33_Sydney_BER_MQAM', 'LEO33_Sydney_Latency', 'LEO33_Sydney_TimeOut', 'LEO33_Melbourne_Access', 'LEO33_Melbourne_SNR_dB', 'LEO33_Melbourne_RSSI_dBm', 'LEO33_Melbourne_Throughput', 'LEO33_Melbourne_BER_QPSK', 'LEO33_Melbourne_BER_MQAM', 'LEO33_Melbourne_Latency', 'LEO33_Melbourne_TimeOut', 'LEO34_Name', 'LEO34_Lat', 'LEO34_Lon', 'LEO34_Freq_Hz', 'LEO34_Sydney_Access', 'LEO34_Sydney_SNR_dB', 'LEO34_Sydney_RSSI_dBm', 'LEO34_Sydney_Throughput', 'LEO34_Sydney_BER_QPSK', 'LEO34_Sydney_BER_MQAM', 'LEO34_Sydney_Latency', 'LEO34_Sydney_TimeOut', 'LEO34_Melbourne_Access', 'LEO34_Melbourne_SNR_dB', 'LEO34_Melbourne_RSSI_dBm', 'LEO34_Melbourne_Throughput', 'LEO34_Melbourne_BER_QPSK', 'LEO34_Melbourne_BER_MQAM', 'LEO34_Melbourne_Latency', 'LEO34_Melbourne_TimeOut', 'LEO35_Name', 'LEO35_Lat', 'LEO35_Lon', 'LEO35_Freq_Hz', 'LEO35_Sydney_Access', 'LEO35_Sydney_SNR_dB', 'LEO35_Sydney_RSSI_dBm', 'LEO35_Sydney_Throughput', 'LEO35_Sydney_BER_QPSK', 'LEO35_Sydney_BER_MQAM', 'LEO35_Sydney_Latency', 'LEO35_Sydney_TimeOut', 'LEO35_Melbourne_Access', 'LEO35_Melbourne_SNR_dB', 'LEO35_Melbourne_RSSI_dBm', 'LEO35_Melbourne_Throughput', 'LEO35_Melbourne_BER_QPSK', 'LEO35_Melbourne_BER_MQAM', 'LEO35_Melbourne_Latency', 'LEO35_Melbourne_TimeOut', 'LEO43_Name', 'LEO43_Lat', 'LEO43_Lon', 'LEO43_Freq_Hz', 'LEO43_Sydney_Access', 'LEO43_Sydney_SNR_dB', 'LEO43_Sydney_RSSI_dBm', 'LEO43_Sydney_Throughput', 'LEO43_Sydney_BER_QPSK', 'LEO43_Sydney_BER_MQAM', 'LEO43_Sydney_Latency', 'LEO43_Sydney_TimeOut', 'LEO43_Melbourne_Access', 'LEO43_Melbourne_SNR_dB', 'LEO43_Melbourne_RSSI_dBm', 'LEO43_Melbourne_Throughput', 'LEO43_Melbourne_BER_QPSK', 'LEO43_Melbourne_BER_MQAM', 'LEO43_Melbourne_Latency', 'LEO43_Melbourne_TimeOut', 'LEO44_Name', 'LEO44_Lat', 'LEO44_Lon', 'LEO44_Freq_Hz', 'LEO44_Sydney_Access', 'LEO44_Sydney_SNR_dB', 'LEO44_Sydney_RSSI_dBm', 'LEO44_Sydney_Throughput', 'LEO44_Sydney_BER_QPSK', 'LEO44_Sydney_BER_MQAM', 'LEO44_Sydney_Latency', 'LEO44_Sydney_TimeOut', 'LEO44_Melbourne_Access', 'LEO44_Melbourne_SNR_dB', 'LEO44_Melbourne_RSSI_dBm', 'LEO44_Melbourne_Throughput', 'LEO44_Melbourne_BER_QPSK', 'LEO44_Melbourne_BER_MQAM', 'LEO44_Melbourne_Latency', 'LEO44_Melbourne_TimeOut', 'LEO45_Name', 'LEO45_Lat', 'LEO45_Lon', 'LEO45_Freq_Hz', 'LEO45_Sydney_Access', 'LEO45_Sydney_SNR_dB', 'LEO45_Sydney_RSSI_dBm', 'LEO45_Sydney_Throughput', 'LEO45_Sydney_BER_QPSK', 'LEO45_Sydney_BER_MQAM', 'LEO45_Sydney_Latency', 'LEO45_Sydney_TimeOut', 'LEO45_Melbourne_Access', 'LEO45_Melbourne_SNR_dB', 'LEO45_Melbourne_RSSI_dBm', 'LEO45_Melbourne_Throughput', 'LEO45_Melbourne_BER_QPSK', 'LEO45_Melbourne_BER_MQAM', 'LEO45_Melbourne_Latency', 'LEO45_Melbourne_TimeOut', 'LEO46_Name', 'LEO46_Lat', 'LEO46_Lon', 'LEO46_Freq_Hz', 'LEO46_Sydney_Access', 'LEO46_Sydney_SNR_dB', 'LEO46_Sydney_RSSI_dBm', 'LEO46_Sydney_Throughput', 'LEO46_Sydney_BER_QPSK', 'LEO46_Sydney_BER_MQAM', 'LEO46_Sydney_Latency', 'LEO46_Sydney_TimeOut', 'LEO46_Melbourne_Access', 'LEO46_Melbourne_SNR_dB', 'LEO46_Melbourne_RSSI_dBm', 'LEO46_Melbourne_Throughput', 'LEO46_Melbourne_BER_QPSK', 'LEO46_Melbourne_BER_MQAM', 'LEO46_Melbourne_Latency', 'LEO46_Melbourne_TimeOut', 'LEO54_Name', 'LEO54_Lat', 'LEO54_Lon', 'LEO54_Freq_Hz', 'LEO54_Sydney_Access', 'LEO54_Sydney_SNR_dB', 'LEO54_Sydney_RSSI_dBm', 'LEO54_Sydney_Throughput', 'LEO54_Sydney_BER_QPSK', 'LEO54_Sydney_BER_MQAM', 'LEO54_Sydney_Latency', 'LEO54_Sydney_TimeOut', 'LEO54_Melbourne_Access', 'LEO54_Melbourne_SNR_dB', 'LEO54_Melbourne_RSSI_dBm', 'LEO54_Melbourne_Throughput', 'LEO54_Melbourne_BER_QPSK', 'LEO54_Melbourne_BER_MQAM', 'LEO54_Melbourne_Latency', 'LEO54_Melbourne_TimeOut', 'LEO55_Name', 'LEO55_Lat', 'LEO55_Lon', 'LEO55_Freq_Hz', 'LEO55_Sydney_Access', 'LEO55_Sydney_SNR_dB', 'LEO55_Sydney_RSSI_dBm', 'LEO55_Sydney_Throughput', 'LEO55_Sydney_BER_QPSK', 'LEO55_Sydney_BER_MQAM', 'LEO55_Sydney_Latency', 'LEO55_Sydney_TimeOut', 'LEO55_Melbourne_Access', 'LEO55_Melbourne_SNR_dB', 'LEO55_Melbourne_RSSI_dBm', 'LEO55_Melbourne_Throughput', 'LEO55_Melbourne_BER_QPSK', 'LEO55_Melbourne_BER_MQAM', 'LEO55_Melbourne_Latency', 'LEO55_Melbourne_TimeOut', 'LEO56_Name', 'LEO56_Lat', 'LEO56_Lon', 'LEO56_Freq_Hz', 'LEO56_Sydney_Access', 'LEO56_Sydney_SNR_dB', 'LEO56_Sydney_RSSI_dBm', 'LEO56_Sydney_Throughput', 'LEO56_Sydney_BER_QPSK', 'LEO56_Sydney_BER_MQAM', 'LEO56_Sydney_Latency', 'LEO56_Sydney_TimeOut', 'LEO56_Melbourne_Access', 'LEO56_Melbourne_SNR_dB', 'LEO56_Melbourne_RSSI_dBm', 'LEO56_Melbourne_Throughput', 'LEO56_Melbourne_BER_QPSK', 'LEO56_Melbourne_BER_MQAM', 'LEO56_Melbourne_Latency', 'LEO56_Melbourne_TimeOut', 'LEO57_Name', 'LEO57_Lat', 'LEO57_Lon', 'LEO57_Freq_Hz', 'LEO57_Sydney_Access', 'LEO57_Sydney_SNR_dB', 'LEO57_Sydney_RSSI_dBm', 'LEO57_Sydney_Throughput', 'LEO57_Sydney_BER_QPSK', 'LEO57_Sydney_BER_MQAM', 'LEO57_Sydney_Latency', 'LEO57_Sydney_TimeOut', 'LEO57_Melbourne_Access', 'LEO57_Melbourne_SNR_dB', 'LEO57_Melbourne_RSSI_dBm', 'LEO57_Melbourne_Throughput', 'LEO57_Melbourne_BER_QPSK', 'LEO57_Melbourne_BER_MQAM', 'LEO57_Melbourne_Latency', 'LEO57_Melbourne_TimeOut', 'LEO65_Name', 'LEO65_Lat', 'LEO65_Lon', 'LEO65_Freq_Hz', 'LEO65_Sydney_Access', 'LEO65_Sydney_SNR_dB', 'LEO65_Sydney_RSSI_dBm', 'LEO65_Sydney_Throughput', 'LEO65_Sydney_BER_QPSK', 'LEO65_Sydney_BER_MQAM', 'LEO65_Sydney_Latency', 'LEO65_Sydney_TimeOut', 'LEO65_Melbourne_Access', 'LEO65_Melbourne_SNR_dB', 'LEO65_Melbourne_RSSI_dBm', 'LEO65_Melbourne_Throughput', 'LEO65_Melbourne_BER_QPSK', 'LEO65_Melbourne_BER_MQAM', 'LEO65_Melbourne_Latency', 'LEO65_Melbourne_TimeOut', 'LEO66_Name', 'LEO66_Lat', 'LEO66_Lon', 'LEO66_Freq_Hz', 'LEO66_Sydney_Access', 'LEO66_Sydney_SNR_dB', 'LEO66_Sydney_RSSI_dBm', 'LEO66_Sydney_Throughput', 'LEO66_Sydney_BER_QPSK', 'LEO66_Sydney_BER_MQAM', 'LEO66_Sydney_Latency', 'LEO66_Sydney_TimeOut', 'LEO66_Melbourne_Access', 'LEO66_Melbourne_SNR_dB', 'LEO66_Melbourne_RSSI_dBm', 'LEO66_Melbourne_Throughput', 'LEO66_Melbourne_BER_QPSK', 'LEO66_Melbourne_BER_MQAM', 'LEO66_Melbourne_Latency', 'LEO66_Melbourne_TimeOut', 'LEO67_Name', 'LEO67_Lat', 'LEO67_Lon', 'LEO67_Freq_Hz', 'LEO67_Sydney_Access', 'LEO67_Sydney_SNR_dB', 'LEO67_Sydney_RSSI_dBm', 'LEO67_Sydney_Throughput', 'LEO67_Sydney_BER_QPSK', 'LEO67_Sydney_BER_MQAM', 'LEO67_Sydney_Latency', 'LEO67_Sydney_TimeOut', 'LEO67_Melbourne_Access', 'LEO67_Melbourne_SNR_dB', 'LEO67_Melbourne_RSSI_dBm', 'LEO67_Melbourne_Throughput', 'LEO67_Melbourne_BER_QPSK', 'LEO67_Melbourne_BER_MQAM', 'LEO67_Melbourne_Latency', 'LEO67_Melbourne_TimeOut', 'LEO68_Name', 'LEO68_Lat', 'LEO68_Lon', 'LEO68_Freq_Hz', 'LEO68_Sydney_Access', 'LEO68_Sydney_SNR_dB', 'LEO68_Sydney_RSSI_dBm', 'LEO68_Sydney_Throughput', 'LEO68_Sydney_BER_QPSK', 'LEO68_Sydney_BER_MQAM', 'LEO68_Sydney_Latency', 'LEO68_Sydney_TimeOut', 'LEO68_Melbourne_Access', 'LEO68_Melbourne_SNR_dB', 'LEO68_Melbourne_RSSI_dBm', 'LEO68_Melbourne_Throughput', 'LEO68_Melbourne_BER_QPSK', 'LEO68_Melbourne_BER_MQAM', 'LEO68_Melbourne_Latency', 'LEO68_Melbourne_TimeOut', 'LEO69_Name', 'LEO69_Lat', 'LEO69_Lon', 'LEO69_Freq_Hz', 'LEO69_Sydney_Access', 'LEO69_Sydney_SNR_dB', 'LEO69_Sydney_RSSI_dBm', 'LEO69_Sydney_Throughput', 'LEO69_Sydney_BER_QPSK', 'LEO69_Sydney_BER_MQAM', 'LEO69_Sydney_Latency', 'LEO69_Sydney_TimeOut', 'LEO69_Melbourne_Access', 'LEO69_Melbourne_SNR_dB', 'LEO69_Melbourne_RSSI_dBm', 'LEO69_Melbourne_Throughput', 'LEO69_Melbourne_BER_QPSK', 'LEO69_Melbourne_BER_MQAM', 'LEO69_Melbourne_Latency', 'LEO69_Melbourne_TimeOut', 'LEO76_Name', 'LEO76_Lat', 'LEO76_Lon', 'LEO76_Freq_Hz', 'LEO76_Sydney_Access', 'LEO76_Sydney_SNR_dB', 'LEO76_Sydney_RSSI_dBm', 'LEO76_Sydney_Throughput', 'LEO76_Sydney_BER_QPSK', 'LEO76_Sydney_BER_MQAM', 'LEO76_Sydney_Latency', 'LEO76_Sydney_TimeOut', 'LEO76_Melbourne_Access', 'LEO76_Melbourne_SNR_dB', 'LEO76_Melbourne_RSSI_dBm', 'LEO76_Melbourne_Throughput', 'LEO76_Melbourne_BER_QPSK', 'LEO76_Melbourne_BER_MQAM', 'LEO76_Melbourne_Latency', 'LEO76_Melbourne_TimeOut', 'LEO77_Name', 'LEO77_Lat', 'LEO77_Lon', 'LEO77_Freq_Hz', 'LEO77_Sydney_Access', 'LEO77_Sydney_SNR_dB', 'LEO77_Sydney_RSSI_dBm', 'LEO77_Sydney_Throughput', 'LEO77_Sydney_BER_QPSK', 'LEO77_Sydney_BER_MQAM', 'LEO77_Sydney_Latency', 'LEO77_Sydney_TimeOut', 'LEO77_Melbourne_Access', 'LEO77_Melbourne_SNR_dB', 'LEO77_Melbourne_RSSI_dBm', 'LEO77_Melbourne_Throughput', 'LEO77_Melbourne_BER_QPSK', 'LEO77_Melbourne_BER_MQAM', 'LEO77_Melbourne_Latency', 'LEO77_Melbourne_TimeOut', 'LEO78_Name', 'LEO78_Lat', 'LEO78_Lon', 'LEO78_Freq_Hz', 'LEO78_Sydney_Access', 'LEO78_Sydney_SNR_dB', 'LEO78_Sydney_RSSI_dBm', 'LEO78_Sydney_Throughput', 'LEO78_Sydney_BER_QPSK', 'LEO78_Sydney_BER_MQAM', 'LEO78_Sydney_Latency', 'LEO78_Sydney_TimeOut', 'LEO78_Melbourne_Access', 'LEO78_Melbourne_SNR_dB', 'LEO78_Melbourne_RSSI_dBm', 'LEO78_Melbourne_Throughput', 'LEO78_Melbourne_BER_QPSK', 'LEO78_Melbourne_BER_MQAM', 'LEO78_Melbourne_Latency', 'LEO78_Melbourne_TimeOut', 'LEO79_Name', 'LEO79_Lat', 'LEO79_Lon', 'LEO79_Freq_Hz', 'LEO79_Sydney_Access', 'LEO79_Sydney_SNR_dB', 'LEO79_Sydney_RSSI_dBm', 'LEO79_Sydney_Throughput', 'LEO79_Sydney_BER_QPSK', 'LEO79_Sydney_BER_MQAM', 'LEO79_Sydney_Latency', 'LEO79_Sydney_TimeOut', 'LEO79_Melbourne_Access', 'LEO79_Melbourne_SNR_dB', 'LEO79_Melbourne_RSSI_dBm', 'LEO79_Melbourne_Throughput', 'LEO79_Melbourne_BER_QPSK', 'LEO79_Melbourne_BER_MQAM', 'LEO79_Melbourne_Latency', 'LEO79_Melbourne_TimeOut', 'LEO80_Name', 'LEO80_Lat', 'LEO80_Lon', 'LEO80_Freq_Hz', 'LEO80_Sydney_Access', 'LEO80_Sydney_SNR_dB', 'LEO80_Sydney_RSSI_dBm', 'LEO80_Sydney_Throughput', 'LEO80_Sydney_BER_QPSK', 'LEO80_Sydney_BER_MQAM', 'LEO80_Sydney_Latency', 'LEO80_Sydney_TimeOut', 'LEO80_Melbourne_Access', 'LEO80_Melbourne_SNR_dB', 'LEO80_Melbourne_RSSI_dBm', 'LEO80_Melbourne_Throughput', 'LEO80_Melbourne_BER_QPSK', 'LEO80_Melbourne_BER_MQAM', 'LEO80_Melbourne_Latency', 'LEO80_Melbourne_TimeOut']\n"
     ]
    }
   ],
   "source": [
    "import os\n",
    "from utils.config import GRAPH_SAVE_FOLDER, DATA_FOLDER\n",
    "from utils.plotter import plot_line_comparison\n",
    "\n",
    "from utils.process_data import process_data, return_sat_col_dict\n",
    "import pandas as pd\n",
    "import re\n",
    "\n",
    "\n",
    "# import pandas as pd\n",
    "\n",
    "# data_dir = os.path.join(DATA_FOLDER)\n",
    "# extra_tag = f\"starlink_uplink\"    \n",
    "# tagged_folder = os.path.join(GRAPH_SAVE_FOLDER, extra_tag)\n",
    "\n",
    "# # Ensure the tagged folder exists\n",
    "# os.makedirs(tagged_folder, exist_ok=True)\n",
    "\n",
    "# df = pd.read_csv('Satellite_Australia_Simulation_Log_starlink_uplink.csv')\n",
    "\n",
    "\n",
    "import pandas as pd\n",
    "\n",
    "data_dir = os.path.join(DATA_FOLDER)\n",
    "extra_tag = f\"starlink_downlink\"    \n",
    "tagged_folder = os.path.join(GRAPH_SAVE_FOLDER, extra_tag)\n",
    "\n",
    "# Ensure the tagged folder exists\n",
    "os.makedirs(tagged_folder, exist_ok=True)\n",
    "\n",
    "df = pd.read_csv('Satellite_Australia_Simulation_Log_starlink_downlink.csv')\n",
    "\n",
    "df, possible_sat_conn_ids = process_data(df)\n",
    "# Save the processed DataFrame to a new CSV file\n",
    "output_file = os.path.join(data_dir, f'processed_{extra_tag}.csv')\n",
    "\n",
    "organised_col_dict = return_sat_col_dict(df)"
   ]
  },
  {
   "cell_type": "code",
   "execution_count": 17,
   "id": "d59051c1",
   "metadata": {},
   "outputs": [
    {
     "name": "stdout",
     "output_type": "stream",
     "text": [
      "Processing satellite ID: LEO20\n",
      "Locations: ['Sydney', 'Melbourne']\n",
      "{'Access': ['LEO20_Sydney_Access'], 'SNR_dB': ['LEO20_Sydney_SNR_dB'], 'RSSI_dBm': ['LEO20_Sydney_RSSI_dBm'], 'Throughput': ['LEO20_Sydney_Throughput'], 'BER_QPSK': ['LEO20_Sydney_BER_QPSK'], 'BER_MQAM': ['LEO20_Sydney_BER_MQAM'], 'Latency': ['LEO20_Sydney_Latency'], 'TimeOut': ['LEO20_Sydney_TimeOut']}\n",
      "{'Access': ['LEO20_Melbourne_Access'], 'SNR_dB': ['LEO20_Melbourne_SNR_dB'], 'RSSI_dBm': ['LEO20_Melbourne_RSSI_dBm'], 'Throughput': ['LEO20_Melbourne_Throughput'], 'BER_QPSK': ['LEO20_Melbourne_BER_QPSK'], 'BER_MQAM': ['LEO20_Melbourne_BER_MQAM'], 'Latency': ['LEO20_Melbourne_Latency'], 'TimeOut': ['LEO20_Melbourne_TimeOut']}\n"
     ]
    }
   ],
   "source": [
    "for sat_id in possible_sat_conn_ids:\n",
    "    print(f\"Processing satellite ID: {sat_id}\")\n",
    "    sat_dt = organised_col_dict[sat_id]\n",
    "    locations = list(sat_dt.keys())[1:]\n",
    "    print(f\"Locations: {locations}\")\n",
    "\n",
    "    for loc in locations:\n",
    "        # Build Latency column names\n",
    "        sat_col = sat_dt[loc]\n",
    "\n",
    "        print(sat_col)\n",
    "\n",
    "        access = False\n",
    "\n",
    "\n",
    "    break"
   ]
  }
 ],
 "metadata": {
  "kernelspec": {
   "display_name": "base",
   "language": "python",
   "name": "python3"
  },
  "language_info": {
   "codemirror_mode": {
    "name": "ipython",
    "version": 3
   },
   "file_extension": ".py",
   "mimetype": "text/x-python",
   "name": "python",
   "nbconvert_exporter": "python",
   "pygments_lexer": "ipython3",
   "version": "3.12.7"
  }
 },
 "nbformat": 4,
 "nbformat_minor": 5
}
