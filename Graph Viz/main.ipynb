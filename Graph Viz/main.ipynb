{
 "cells": [
  {
   "cell_type": "code",
   "execution_count": 1,
   "id": "c5f1f7e9",
   "metadata": {},
   "outputs": [],
   "source": [
    "import os\n",
    "from utils.config import GRAPH_SAVE_FOLDER, DATA_FOLDER\n",
    "from utils.plotter import plot_line_comparison\n"
   ]
  },
  {
   "cell_type": "code",
   "execution_count": 2,
   "id": "1b8dbb93",
   "metadata": {},
   "outputs": [],
   "source": [
    "# import pandas as pd\n",
    "\n",
    "# data_dir = os.path.join(DATA_FOLDER)\n",
    "# extra_tag = f\"OneWeb_channel_specs_250MHz_10.5GHz\"    \n",
    "# tagged_folder = os.path.join(GRAPH_SAVE_FOLDER, extra_tag)\n",
    "\n",
    "# # Ensure the tagged folder exists\n",
    "# os.makedirs(tagged_folder, exist_ok=True)\n",
    "\n",
    "# df = pd.read_csv('Satellite_Australia_Simulation_Log.csv')\n",
    "# df = pd.read_csv('./250mhz_Data_10.5Ghz/Satellite_Australia_Simulation_Log.csv')"
   ]
  },
  {
   "cell_type": "code",
   "execution_count": 3,
   "id": "5b3bc0d0",
   "metadata": {},
   "outputs": [],
   "source": [
    "# import pandas as pd\n",
    "\n",
    "# data_dir = os.path.join(DATA_FOLDER)\n",
    "# extra_tag = f\"OneWeb_BGAN\"    \n",
    "# tagged_folder = os.path.join(GRAPH_SAVE_FOLDER, extra_tag)\n",
    "\n",
    "# # Ensure the tagged folder exists\n",
    "# os.makedirs(tagged_folder, exist_ok=True)\n",
    "\n",
    "# df = pd.read_csv('Satellite_Australia_Simulation_Log.csv')\n",
    "# # df = pd.read_csv('./250mhz_Data_10.5Ghz/Satellite_Australia_Simulation_Log.csv')"
   ]
  },
  {
   "cell_type": "code",
   "execution_count": 4,
   "id": "288ff2fc",
   "metadata": {},
   "outputs": [],
   "source": [
    "import pandas as pd\n",
    "\n",
    "data_dir = os.path.join(DATA_FOLDER)\n",
    "extra_tag = f\"starlink\"    \n",
    "tagged_folder = os.path.join(GRAPH_SAVE_FOLDER, extra_tag)\n",
    "\n",
    "# Ensure the tagged folder exists\n",
    "os.makedirs(tagged_folder, exist_ok=True)\n",
    "\n",
    "df = pd.read_csv('Satellite_Australia_Simulation_Log_starlink.csv')"
   ]
  },
  {
   "cell_type": "code",
   "execution_count": 5,
   "id": "f766fc8a",
   "metadata": {},
   "outputs": [
    {
     "name": "stdout",
     "output_type": "stream",
     "text": [
      "Max satellite ID found: 64\n",
      "Satellites with possible connection: ['LEO16', 'LEO23', 'LEO30', 'LEO37']\n",
      "length(Satellites with possible connection): 4\n"
     ]
    }
   ],
   "source": [
    "import pandas as pd\n",
    "import re\n",
    "\n",
    "# Step 1: Drop columns that are all zeros or all NaN\n",
    "df = df.drop(columns=[col for col in df.columns if ((df[col] == 0) | (df[col].isna())).all()])\n",
    "\n",
    "# Step 2: Get max satellite ID from column names\n",
    "sat_ids = [int(match.group(1)) for col in df.columns if (match := re.match(r'LEO(\\d+)_', col))]\n",
    "max_sat_id = max(sat_ids) if sat_ids else -1\n",
    "\n",
    "print(\"Max satellite ID found:\", max_sat_id)\n",
    "\n",
    "# Step 3: Track satellites with access\n",
    "possible_sat_conn_ids = []\n",
    "\n",
    "for i in range(max_sat_id + 1):\n",
    "    sat_id = f'LEO{i}'\n",
    "\n",
    "    # Check access columns\n",
    "    sydney_access_col = f'{sat_id}_Sydney_Access'\n",
    "    melbourne_access_col = f'{sat_id}_Melbourne_Access'\n",
    "\n",
    "    # Check if access columns exist and have any True values\n",
    "    # .fillna(False) ensures we treat NaN as False\n",
    "    # .any() checks if there is at least one True value\n",
    "    sydney_access_ok = sydney_access_col in df.columns and df[sydney_access_col].fillna(False).any()\n",
    "    melbourne_access_ok = melbourne_access_col in df.columns and df[melbourne_access_col].fillna(False).any()\n",
    "\n",
    "    if sydney_access_ok or melbourne_access_ok:\n",
    "        possible_sat_conn_ids.append(sat_id)\n",
    "    else:\n",
    "        # Drop base satellite info if no access\n",
    "        base_cols = [f'{sat_id}_Name', f'{sat_id}_Lat', f'{sat_id}_Lon', f'{sat_id}_Freq_Hz']\n",
    "        existing_cols_to_drop = [col for col in base_cols if col in df.columns]\n",
    "        df = df.drop(columns=existing_cols_to_drop)\n",
    "\n",
    "print(\"Satellites with possible connection:\", possible_sat_conn_ids)\n",
    "print(\"length(Satellites with possible connection):\", len(possible_sat_conn_ids))\n"
   ]
  },
  {
   "cell_type": "code",
   "execution_count": 6,
   "id": "aecffde7",
   "metadata": {},
   "outputs": [
    {
     "name": "stdout",
     "output_type": "stream",
     "text": [
      "Remaining columns after cleanup: ['Time', 'LEO16_Name', 'LEO16_Lat', 'LEO16_Lon', 'LEO16_Freq_Hz', 'LEO16_Sydney_Access', 'LEO16_Sydney_SNR_dB', 'LEO16_Sydney_RSSI_dBm', 'LEO16_Sydney_Throughput', 'LEO16_Sydney_BER_QPSK', 'LEO16_Sydney_BER_MQAM', 'LEO16_Sydney_Latency', 'LEO16_Sydney_TimeOut', 'LEO16_Melbourne_Access', 'LEO16_Melbourne_SNR_dB', 'LEO16_Melbourne_RSSI_dBm', 'LEO16_Melbourne_Throughput', 'LEO16_Melbourne_BER_QPSK', 'LEO16_Melbourne_BER_MQAM', 'LEO16_Melbourne_Latency', 'LEO16_Melbourne_TimeOut', 'LEO23_Name', 'LEO23_Lat', 'LEO23_Lon', 'LEO23_Freq_Hz', 'LEO23_Sydney_Access', 'LEO23_Sydney_SNR_dB', 'LEO23_Sydney_RSSI_dBm', 'LEO23_Sydney_Throughput', 'LEO23_Sydney_BER_QPSK', 'LEO23_Sydney_BER_MQAM', 'LEO23_Sydney_Latency', 'LEO23_Sydney_TimeOut', 'LEO23_Melbourne_Access', 'LEO23_Melbourne_SNR_dB', 'LEO23_Melbourne_RSSI_dBm', 'LEO23_Melbourne_Throughput', 'LEO23_Melbourne_BER_QPSK', 'LEO23_Melbourne_BER_MQAM', 'LEO23_Melbourne_Latency', 'LEO23_Melbourne_TimeOut', 'LEO30_Name', 'LEO30_Lat', 'LEO30_Lon', 'LEO30_Freq_Hz', 'LEO30_Sydney_Access', 'LEO30_Sydney_SNR_dB', 'LEO30_Sydney_RSSI_dBm', 'LEO30_Sydney_Throughput', 'LEO30_Sydney_BER_QPSK', 'LEO30_Sydney_BER_MQAM', 'LEO30_Sydney_Latency', 'LEO30_Sydney_TimeOut', 'LEO30_Melbourne_Access', 'LEO30_Melbourne_SNR_dB', 'LEO30_Melbourne_RSSI_dBm', 'LEO30_Melbourne_Throughput', 'LEO30_Melbourne_BER_QPSK', 'LEO30_Melbourne_BER_MQAM', 'LEO30_Melbourne_Latency', 'LEO30_Melbourne_TimeOut', 'LEO37_Name', 'LEO37_Lat', 'LEO37_Lon', 'LEO37_Freq_Hz', 'LEO37_Sydney_Access', 'LEO37_Sydney_SNR_dB', 'LEO37_Sydney_RSSI_dBm', 'LEO37_Sydney_Throughput', 'LEO37_Sydney_BER_QPSK', 'LEO37_Sydney_BER_MQAM', 'LEO37_Sydney_Latency', 'LEO37_Sydney_TimeOut', 'LEO37_Melbourne_Access', 'LEO37_Melbourne_SNR_dB', 'LEO37_Melbourne_RSSI_dBm', 'LEO37_Melbourne_Throughput', 'LEO37_Melbourne_BER_QPSK', 'LEO37_Melbourne_BER_MQAM', 'LEO37_Melbourne_Latency', 'LEO37_Melbourne_TimeOut']\n"
     ]
    }
   ],
   "source": [
    "# Collect all satellite-related columns NOT in possible_sat_conn_ids to drop\n",
    "cols_to_drop = []\n",
    "\n",
    "for col in df.columns:\n",
    "    # Extract satellite id number from column name if it matches pattern\n",
    "    match = re.match(r'(LEO\\d+)_', col)\n",
    "    if match:\n",
    "        sat_id = match.group(1)\n",
    "        # If satellite not in possible_sat_conn_ids, mark its columns for deletion\n",
    "        if sat_id not in possible_sat_conn_ids:\n",
    "            cols_to_drop.append(col)\n",
    "\n",
    "# Drop those columns\n",
    "df = df.drop(columns=cols_to_drop)\n",
    "\n",
    "print(\"Remaining columns after cleanup:\", df.columns.tolist())\n"
   ]
  },
  {
   "cell_type": "code",
   "execution_count": 7,
   "id": "8f4276fa",
   "metadata": {},
   "outputs": [],
   "source": [
    "all_rssi_cols = [col for col in df.columns if re.search(r'_RSSI_dBm$', col)]\n",
    "all_snr_cols = [col for col in df.columns if re.search(r'_SNR_dB$', col)]"
   ]
  },
  {
   "cell_type": "code",
   "execution_count": 16,
   "id": "f6b57982",
   "metadata": {},
   "outputs": [
    {
     "data": {
      "text/html": [
       "<div>\n",
       "<style scoped>\n",
       "    .dataframe tbody tr th:only-of-type {\n",
       "        vertical-align: middle;\n",
       "    }\n",
       "\n",
       "    .dataframe tbody tr th {\n",
       "        vertical-align: top;\n",
       "    }\n",
       "\n",
       "    .dataframe thead th {\n",
       "        text-align: right;\n",
       "    }\n",
       "</style>\n",
       "<table border=\"1\" class=\"dataframe\">\n",
       "  <thead>\n",
       "    <tr style=\"text-align: right;\">\n",
       "      <th></th>\n",
       "      <th>Time</th>\n",
       "      <th>LEO16_Name</th>\n",
       "      <th>LEO16_Lat</th>\n",
       "      <th>LEO16_Lon</th>\n",
       "      <th>LEO16_Freq_Hz</th>\n",
       "      <th>LEO16_Sydney_Access</th>\n",
       "      <th>LEO16_Sydney_SNR_dB</th>\n",
       "      <th>LEO16_Sydney_RSSI_dBm</th>\n",
       "      <th>LEO16_Sydney_Throughput</th>\n",
       "      <th>LEO16_Sydney_BER_QPSK</th>\n",
       "      <th>...</th>\n",
       "      <th>LEO37_Sydney_Latency</th>\n",
       "      <th>LEO37_Sydney_TimeOut</th>\n",
       "      <th>LEO37_Melbourne_Access</th>\n",
       "      <th>LEO37_Melbourne_SNR_dB</th>\n",
       "      <th>LEO37_Melbourne_RSSI_dBm</th>\n",
       "      <th>LEO37_Melbourne_Throughput</th>\n",
       "      <th>LEO37_Melbourne_BER_QPSK</th>\n",
       "      <th>LEO37_Melbourne_BER_MQAM</th>\n",
       "      <th>LEO37_Melbourne_Latency</th>\n",
       "      <th>LEO37_Melbourne_TimeOut</th>\n",
       "    </tr>\n",
       "  </thead>\n",
       "  <tbody>\n",
       "    <tr>\n",
       "      <th>0</th>\n",
       "      <td>10-Apr-2025 12:00:00</td>\n",
       "      <td>Starlink-Shell-1_16</td>\n",
       "      <td>-30.461486</td>\n",
       "      <td>150.453208</td>\n",
       "      <td>12300000000</td>\n",
       "      <td>1</td>\n",
       "      <td>22.785880</td>\n",
       "      <td>-97.165211</td>\n",
       "      <td>1.894220e+09</td>\n",
       "      <td>6.690798e-85</td>\n",
       "      <td>...</td>\n",
       "      <td>0.006708</td>\n",
       "      <td>10-Apr-2025 12:00:00</td>\n",
       "      <td>1</td>\n",
       "      <td>-13.188454</td>\n",
       "      <td>-133.139545</td>\n",
       "      <td>1.690638e+07</td>\n",
       "      <td>0.378354</td>\n",
       "      <td>0.345734</td>\n",
       "      <td>0.007897</td>\n",
       "      <td>10-Apr-2025 12:00:00</td>\n",
       "    </tr>\n",
       "    <tr>\n",
       "      <th>1</th>\n",
       "      <td>10-Apr-2025 12:01:00</td>\n",
       "      <td>Starlink-Shell-1_16</td>\n",
       "      <td>-27.720286</td>\n",
       "      <td>153.174770</td>\n",
       "      <td>12500000000</td>\n",
       "      <td>1</td>\n",
       "      <td>17.552033</td>\n",
       "      <td>-102.399058</td>\n",
       "      <td>1.463947e+09</td>\n",
       "      <td>7.120663e-27</td>\n",
       "      <td>...</td>\n",
       "      <td>0.005487</td>\n",
       "      <td>10-Apr-2025 12:01:00</td>\n",
       "      <td>1</td>\n",
       "      <td>-2.949468</td>\n",
       "      <td>-122.900559</td>\n",
       "      <td>1.479325e+08</td>\n",
       "      <td>0.156961</td>\n",
       "      <td>0.281304</td>\n",
       "      <td>0.006895</td>\n",
       "      <td>10-Apr-2025 12:01:00</td>\n",
       "    </tr>\n",
       "  </tbody>\n",
       "</table>\n",
       "<p>2 rows × 81 columns</p>\n",
       "</div>"
      ],
      "text/plain": [
       "                   Time           LEO16_Name  LEO16_Lat   LEO16_Lon  \\\n",
       "0  10-Apr-2025 12:00:00  Starlink-Shell-1_16 -30.461486  150.453208   \n",
       "1  10-Apr-2025 12:01:00  Starlink-Shell-1_16 -27.720286  153.174770   \n",
       "\n",
       "   LEO16_Freq_Hz  LEO16_Sydney_Access  LEO16_Sydney_SNR_dB  \\\n",
       "0    12300000000                    1            22.785880   \n",
       "1    12500000000                    1            17.552033   \n",
       "\n",
       "   LEO16_Sydney_RSSI_dBm  LEO16_Sydney_Throughput  LEO16_Sydney_BER_QPSK  ...  \\\n",
       "0             -97.165211             1.894220e+09           6.690798e-85  ...   \n",
       "1            -102.399058             1.463947e+09           7.120663e-27  ...   \n",
       "\n",
       "   LEO37_Sydney_Latency  LEO37_Sydney_TimeOut LEO37_Melbourne_Access  \\\n",
       "0              0.006708  10-Apr-2025 12:00:00                      1   \n",
       "1              0.005487  10-Apr-2025 12:01:00                      1   \n",
       "\n",
       "   LEO37_Melbourne_SNR_dB  LEO37_Melbourne_RSSI_dBm  \\\n",
       "0              -13.188454               -133.139545   \n",
       "1               -2.949468               -122.900559   \n",
       "\n",
       "   LEO37_Melbourne_Throughput  LEO37_Melbourne_BER_QPSK  \\\n",
       "0                1.690638e+07                  0.378354   \n",
       "1                1.479325e+08                  0.156961   \n",
       "\n",
       "   LEO37_Melbourne_BER_MQAM  LEO37_Melbourne_Latency  LEO37_Melbourne_TimeOut  \n",
       "0                  0.345734                 0.007897     10-Apr-2025 12:00:00  \n",
       "1                  0.281304                 0.006895     10-Apr-2025 12:01:00  \n",
       "\n",
       "[2 rows x 81 columns]"
      ]
     },
     "execution_count": 16,
     "metadata": {},
     "output_type": "execute_result"
    }
   ],
   "source": [
    "df.head(2)"
   ]
  },
  {
   "cell_type": "code",
   "execution_count": 8,
   "id": "bd8c3305",
   "metadata": {},
   "outputs": [
    {
     "name": "stdout",
     "output_type": "stream",
     "text": [
      "Highest RSSI value at index 0: -97.1652112047367\n",
      "Column with the highest RSSI value at index 0: LEO16_Sydney_RSSI_dBm\n",
      "Highest RSSI value at index 1: -102.399057626458\n",
      "Column with the highest RSSI value at index 1: LEO16_Sydney_RSSI_dBm\n",
      "Highest RSSI value at index 2: -105.297424809908\n",
      "Column with the highest RSSI value at index 2: LEO37_Sydney_RSSI_dBm\n",
      "Highest RSSI value at index 3: -105.136379076059\n",
      "Column with the highest RSSI value at index 3: LEO37_Sydney_RSSI_dBm\n"
     ]
    }
   ],
   "source": [
    "for i, row in df.iterrows():\n",
    "    # Get the highest value across all RSSI columns at the `i-th` row\n",
    "    highest_rssi_at_i = df[all_rssi_cols].iloc[i].max()\n",
    "\n",
    "    # Get the column name that has the highest RSSI value at the `i-th` index\n",
    "    column_with_highest_rssi = df[all_rssi_cols].iloc[i].idxmax()\n",
    "\n",
    "    print(f\"Highest RSSI value at index {i}: {highest_rssi_at_i}\")\n",
    "    print(f\"Column with the highest RSSI value at index {i}: {column_with_highest_rssi}\")"
   ]
  },
  {
   "cell_type": "code",
   "execution_count": 9,
   "id": "64be735d",
   "metadata": {},
   "outputs": [],
   "source": [
    "stats = df[all_rssi_cols].fillna(0).describe().T\n",
    "stats.to_csv(os.path.join('./', 'rssi_stats.csv'))"
   ]
  },
  {
   "cell_type": "code",
   "execution_count": 10,
   "id": "3e6cf120",
   "metadata": {},
   "outputs": [],
   "source": [
    "stats = df[all_rssi_cols].describe().T\n",
    "stats.to_csv(os.path.join('./', 'rssi_stats.csv'))"
   ]
  },
  {
   "cell_type": "code",
   "execution_count": 11,
   "id": "20af71c0",
   "metadata": {},
   "outputs": [],
   "source": [
    "stats = df[all_snr_cols].describe().T\n",
    "stats.to_csv(os.path.join('./', 'snr_stats.csv'))"
   ]
  },
  {
   "cell_type": "code",
   "execution_count": 12,
   "id": "bfa578b8",
   "metadata": {},
   "outputs": [
    {
     "name": "stdout",
     "output_type": "stream",
     "text": [
      "\n",
      "Highest Value per Column:\n",
      " LEO16_Sydney_RSSI_dBm       -97.165211\n",
      "LEO16_Melbourne_RSSI_dBm   -102.173460\n",
      "LEO23_Sydney_RSSI_dBm      -120.342141\n",
      "LEO23_Melbourne_RSSI_dBm   -114.671985\n",
      "LEO30_Sydney_RSSI_dBm      -115.905631\n",
      "LEO30_Melbourne_RSSI_dBm   -103.378039\n",
      "LEO37_Sydney_RSSI_dBm      -105.136379\n",
      "LEO37_Melbourne_RSSI_dBm   -110.388725\n",
      "dtype: float64\n",
      "\n",
      "Highest Value Among All Columns: -97.1652112047367\n"
     ]
    }
   ],
   "source": [
    "\n",
    "# Highest value per column\n",
    "max_per_column = df[all_rssi_cols].max()\n",
    "\n",
    "# Highest value among all columns\n",
    "overall_max = df[all_rssi_cols].max().max()\n",
    "\n",
    "# Displaying results\n",
    "print(\"\\nHighest Value per Column:\\n\", max_per_column)\n",
    "print(\"\\nHighest Value Among All Columns:\", overall_max)"
   ]
  },
  {
   "cell_type": "code",
   "execution_count": 13,
   "id": "2881b577",
   "metadata": {},
   "outputs": [
    {
     "name": "stderr",
     "output_type": "stream",
     "text": [
      "The PostScript backend does not support transparency; partially transparent artists will be rendered opaque.\n",
      "The PostScript backend does not support transparency; partially transparent artists will be rendered opaque.\n",
      "The PostScript backend does not support transparency; partially transparent artists will be rendered opaque.\n",
      "The PostScript backend does not support transparency; partially transparent artists will be rendered opaque.\n",
      "The PostScript backend does not support transparency; partially transparent artists will be rendered opaque.\n",
      "The PostScript backend does not support transparency; partially transparent artists will be rendered opaque.\n",
      "The PostScript backend does not support transparency; partially transparent artists will be rendered opaque.\n",
      "The PostScript backend does not support transparency; partially transparent artists will be rendered opaque.\n"
     ]
    }
   ],
   "source": [
    "# Loop over each satellite in possible_sat_conn_ids\n",
    "for sat_id in possible_sat_conn_ids:\n",
    "    # Build SNR column names\n",
    "    sydney_SNR_col = f'{sat_id}_Sydney_SNR_dB'\n",
    "    melbourne_SNR_col = f'{sat_id}_Melbourne_SNR_dB'\n",
    "\n",
    "    # Check which SNR columns exist\n",
    "    sydney_exists = sydney_SNR_col in df.columns\n",
    "    melbourne_exists = melbourne_SNR_col in df.columns\n",
    "\n",
    "    # Skip if neither exists\n",
    "    if not sydney_exists and not melbourne_exists:\n",
    "        continue\n",
    "    # Plot \n",
    "    if sydney_exists:\n",
    "        plot_line_comparison(\n",
    "            df,\n",
    "            columns=[sydney_SNR_col],\n",
    "            labels=[sydney_SNR_col],\n",
    "            xlabel='Time (m)',\n",
    "            ylabel='dBm',\n",
    "            title=f'SNR for OneWeb Satellites',\n",
    "            filename=f\"{extra_tag}_{sat_id}_Sydney_SNR_.png\",\n",
    "            folder=tagged_folder\n",
    "        )\n",
    "    if melbourne_exists:\n",
    "        plot_line_comparison(\n",
    "            df,\n",
    "            columns=[melbourne_SNR_col],\n",
    "            labels=[melbourne_SNR_col],\n",
    "            xlabel='Time (m) ',\n",
    "            ylabel='dBm',\n",
    "            title=f'SNR for OneWeb Satellites',\n",
    "            filename=f\"{extra_tag}_{sat_id}_SNR__melbourne_.png\",\n",
    "            folder=tagged_folder\n",
    "        )"
   ]
  },
  {
   "cell_type": "code",
   "execution_count": 14,
   "id": "705546e0",
   "metadata": {},
   "outputs": [
    {
     "name": "stderr",
     "output_type": "stream",
     "text": [
      "The PostScript backend does not support transparency; partially transparent artists will be rendered opaque.\n",
      "The PostScript backend does not support transparency; partially transparent artists will be rendered opaque.\n",
      "The PostScript backend does not support transparency; partially transparent artists will be rendered opaque.\n",
      "The PostScript backend does not support transparency; partially transparent artists will be rendered opaque.\n",
      "The PostScript backend does not support transparency; partially transparent artists will be rendered opaque.\n",
      "The PostScript backend does not support transparency; partially transparent artists will be rendered opaque.\n",
      "The PostScript backend does not support transparency; partially transparent artists will be rendered opaque.\n",
      "The PostScript backend does not support transparency; partially transparent artists will be rendered opaque.\n"
     ]
    }
   ],
   "source": [
    "# Loop over each satellite in possible_sat_conn_ids\n",
    "for sat_id in possible_sat_conn_ids:\n",
    "    # Build RSSI column names\n",
    "    sydney_RSSI_col = f'{sat_id}_Sydney_RSSI_dBm'\n",
    "    melbourne_RSSI_col = f'{sat_id}_Melbourne_RSSI_dBm'\n",
    "\n",
    "    # Check which RSSI columns exist\n",
    "    sydney_exists = sydney_RSSI_col in df.columns\n",
    "    melbourne_exists = melbourne_RSSI_col in df.columns\n",
    "\n",
    "    # Skip if neither exists\n",
    "    if not sydney_exists and not melbourne_exists:\n",
    "        continue\n",
    "    # Plot \n",
    "    if sydney_exists:\n",
    "        plot_line_comparison(\n",
    "            df,\n",
    "            columns=[sydney_RSSI_col],\n",
    "            labels=[sydney_RSSI_col],\n",
    "            xlabel='Time (m)',\n",
    "            ylabel='dBm',\n",
    "            title=f'RSSI for OneWeb Satellites',\n",
    "            filename=f\"{extra_tag}_{sat_id}_Sydney_RSSI_.png\",\n",
    "            folder=tagged_folder\n",
    "        )\n",
    "    if melbourne_exists:\n",
    "        plot_line_comparison(\n",
    "            df,\n",
    "            columns=[melbourne_RSSI_col],\n",
    "            labels=[melbourne_RSSI_col],\n",
    "            xlabel='Time (m) ',\n",
    "            ylabel='dBm',\n",
    "            title=f'RSSI for OneWeb Satellites',\n",
    "            filename=f\"{extra_tag}_{sat_id}_RSSI__melbourne_.png\",\n",
    "            folder=tagged_folder\n",
    "        )"
   ]
  },
  {
   "cell_type": "code",
   "execution_count": 15,
   "id": "fb12e592",
   "metadata": {},
   "outputs": [],
   "source": [
    "# import matplotlib.pyplot as plt\n",
    "# import re\n",
    "\n",
    "# all_rssi_cols = [col for col in df.columns if re.search(r'_RSSI_dBm$', col)]\n",
    "# all_snr_cols = [col for col in df.columns if re.search(r'_SNR_dB$', col)]\n",
    "\n",
    "# # Loop over each satellite in possible_sat_conn_ids\n",
    "# for sat_id in possible_sat_conn_ids:\n",
    "#     # Build RSSI column names\n",
    "#     sydney_RSSI_col = f'{sat_id}_Sydney_RSSI_dBm'\n",
    "#     melbourne_RSSI_col = f'{sat_id}_Melbourne_RSSI_dBm'\n",
    "\n",
    "#     # Check which RSSI columns exist\n",
    "#     sydney_exists = sydney_RSSI_col in df.columns\n",
    "#     melbourne_exists = melbourne_RSSI_col in df.columns\n",
    "\n",
    "#     # Skip if neither exists\n",
    "#     if not sydney_exists and not melbourne_exists:\n",
    "#         continue\n",
    "\n",
    "#     plt.figure(figsize=(10, 5))\n",
    "#     plt.title(f'RSSI vs Time for {sat_id}')\n",
    "#     plt.xlabel('Time')\n",
    "#     plt.ylabel('RSSI (dB)')\n",
    "\n",
    "#     if sydney_exists:\n",
    "#         plt.plot(df['Time'], df[sydney_RSSI_col], label='Sydney', color='blue')\n",
    "#     if melbourne_exists:\n",
    "#         plt.plot(df['Time'], df[melbourne_RSSI_col], label='Melbourne', color='green')\n",
    "\n",
    "#     plt.legend()\n",
    "#     plt.grid(True)\n",
    "#     plt.tight_layout()\n",
    "#     plt.show()\n"
   ]
  }
 ],
 "metadata": {
  "kernelspec": {
   "display_name": "base",
   "language": "python",
   "name": "python3"
  },
  "language_info": {
   "codemirror_mode": {
    "name": "ipython",
    "version": 3
   },
   "file_extension": ".py",
   "mimetype": "text/x-python",
   "name": "python",
   "nbconvert_exporter": "python",
   "pygments_lexer": "ipython3",
   "version": "3.12.7"
  }
 },
 "nbformat": 4,
 "nbformat_minor": 5
}
